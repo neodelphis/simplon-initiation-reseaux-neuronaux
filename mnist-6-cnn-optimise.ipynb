{
 "cells": [
  {
   "cell_type": "markdown",
   "metadata": {},
   "source": [
    "# Réseau de neurones convolutionnel\n",
    "## Version optimisée"
   ]
  },
  {
   "cell_type": "markdown",
   "metadata": {},
   "source": [
    " - [Pense-bête de réseaux de neurones convolutionnels ](https://stanford.edu/~shervine/l/fr/teaching/cs-230/pense-bete-reseaux-neurones-convolutionnels)\n",
    " - [Exemple Keras](https://keras.io/examples/mnist_cnn/)"
   ]
  },
  {
   "cell_type": "code",
   "execution_count": 10,
   "metadata": {},
   "outputs": [],
   "source": [
    "import tensorflow.keras\n",
    "from tensorflow.keras.datasets import mnist\n",
    "from tensorflow.keras.utils import to_categorical\n",
    "from tensorflow.keras.models import Sequential\n",
    "from tensorflow.keras.layers import Dense, Flatten , Conv2D, Dropout, BatchNormalization, ReLU\n",
    "from tensorflow.keras.optimizers.schedules import ExponentialDecay\n",
    "from tensorflow.keras.optimizers import Adam\n",
    "import time\n",
    "from math import trunc\n",
    "import matplotlib.pyplot as plt"
   ]
  },
  {
   "cell_type": "code",
   "execution_count": 11,
   "metadata": {},
   "outputs": [],
   "source": [
    "(x_train, y_train), (x_val, y_val) = mnist.load_data()\n",
    "\n",
    "# Ajout de l'indication du canal sur le images pour le traitement via réseau convolutionnel\n",
    "x_train = x_train.reshape(x_train.shape[0], 28, 28, 1)\n",
    "x_val = x_val.reshape(x_val.shape[0], 28, 28, 1)\n",
    "\n",
    "input_shape=(28, 28, 1)\n",
    "num_classes = 10\n",
    "\n",
    "# normalisation\n",
    "x_train, x_val = x_train/255., x_val/255.\n",
    "# 1-hot encoding\n",
    "y_train, y_val = to_categorical(y_train, dtype='int8'), to_categorical(y_val, dtype='int8')"
   ]
  },
  {
   "cell_type": "code",
   "execution_count": 12,
   "metadata": {},
   "outputs": [],
   "source": [
    "# Hyperparamètres\n",
    "#\n",
    "# Nombre d'époques pour l'apprentissage:\n",
    "epochs = 30\n",
    "\n",
    "# Taille du batch d'entraînement:\n",
    "batch_size = 100\n",
    "\n",
    "# Taux de dropout rate\n",
    "dropout_rate = 0.1\n",
    "\n",
    "# Planification de l'apprentissage\n",
    "initial_learning_rate = 0.005\n",
    "# taux de décroissance du pas d'apprentissage\n",
    "decay_rate = 0.7\n",
    "# Nombre d'époques à faire avant de changer de pas\n",
    "decay_steps = 180000 # 3 époques\n"
   ]
  },
  {
   "cell_type": "code",
   "execution_count": 13,
   "metadata": {},
   "outputs": [
    {
     "name": "stdout",
     "output_type": "stream",
     "text": [
      "Model: \"sequential_1\"\n",
      "_________________________________________________________________\n",
      "Layer (type)                 Output Shape              Param #   \n",
      "=================================================================\n",
      "conv2d_3 (Conv2D)            (None, 23, 23, 12)        444       \n",
      "_________________________________________________________________\n",
      "batch_normalization_3 (Batch (None, 23, 23, 12)        48        \n",
      "_________________________________________________________________\n",
      "re_lu_3 (ReLU)               (None, 23, 23, 12)        0         \n",
      "_________________________________________________________________\n",
      "dropout_4 (Dropout)          (None, 23, 23, 12)        0         \n",
      "_________________________________________________________________\n",
      "conv2d_4 (Conv2D)            (None, 10, 10, 12)        3612      \n",
      "_________________________________________________________________\n",
      "batch_normalization_4 (Batch (None, 10, 10, 12)        48        \n",
      "_________________________________________________________________\n",
      "re_lu_4 (ReLU)               (None, 10, 10, 12)        0         \n",
      "_________________________________________________________________\n",
      "dropout_5 (Dropout)          (None, 10, 10, 12)        0         \n",
      "_________________________________________________________________\n",
      "conv2d_5 (Conv2D)            (None, 4, 4, 24)          4632      \n",
      "_________________________________________________________________\n",
      "batch_normalization_5 (Batch (None, 4, 4, 24)          96        \n",
      "_________________________________________________________________\n",
      "re_lu_5 (ReLU)               (None, 4, 4, 24)          0         \n",
      "_________________________________________________________________\n",
      "dropout_6 (Dropout)          (None, 4, 4, 24)          0         \n",
      "_________________________________________________________________\n",
      "flatten_1 (Flatten)          (None, 384)               0         \n",
      "_________________________________________________________________\n",
      "dense_2 (Dense)              (None, 200)               77000     \n",
      "_________________________________________________________________\n",
      "dropout_7 (Dropout)          (None, 200)               0         \n",
      "_________________________________________________________________\n",
      "dense_3 (Dense)              (None, 10)                2010      \n",
      "=================================================================\n",
      "Total params: 87,890\n",
      "Trainable params: 87,794\n",
      "Non-trainable params: 96\n",
      "_________________________________________________________________\n"
     ]
    }
   ],
   "source": [
    "# Structure du modèle\n",
    "\n",
    "model = Sequential()\n",
    "model.add(Conv2D(12, kernel_size=(6,6), input_shape=input_shape))\n",
    "model.add(BatchNormalization())\n",
    "model.add(ReLU())\n",
    "model.add(Dropout(dropout_rate))\n",
    "\n",
    "model.add(Conv2D(12, (5,5), strides=(2, 2)))\n",
    "model.add(BatchNormalization())\n",
    "model.add(ReLU())\n",
    "model.add(Dropout(dropout_rate))\n",
    "\n",
    "model.add(Conv2D(24, (4,4), strides=(2, 2)))\n",
    "model.add(BatchNormalization())\n",
    "model.add(ReLU())\n",
    "model.add(Dropout(dropout_rate))\n",
    "\n",
    "model.add(Flatten())\n",
    "\n",
    "model.add(Dense(200, activation='relu'))\n",
    "model.add(Dropout(dropout_rate))\n",
    "\n",
    "model.add(Dense(num_classes, activation='softmax'))\n",
    "\n",
    "model.summary()"
   ]
  },
  {
   "cell_type": "code",
   "execution_count": 14,
   "metadata": {},
   "outputs": [],
   "source": [
    "# Planification de l'apprentissage\n",
    "\n",
    "lr_schedule = ExponentialDecay(initial_learning_rate,\n",
    "            decay_steps = decay_steps,\n",
    "            decay_rate = decay_rate,\n",
    "            staircase=True)\n",
    "\n",
    "optimizer = Adam(learning_rate=lr_schedule)\n",
    "\n",
    "model.compile(loss = 'categorical_crossentropy',\n",
    "              optimizer = optimizer,\n",
    "              metrics = ['accuracy'])"
   ]
  },
  {
   "cell_type": "code",
   "execution_count": 15,
   "metadata": {},
   "outputs": [
    {
     "name": "stdout",
     "output_type": "stream",
     "text": [
      "Train on 60000 samples, validate on 10000 samples\n",
      "Epoch 1/30\n",
      "60000/60000 [==============================] - 40s 674us/sample - loss: 0.1444 - accuracy: 0.9551 - val_loss: 0.0510 - val_accuracy: 0.9838\n",
      "Epoch 2/30\n",
      "60000/60000 [==============================] - 38s 639us/sample - loss: 0.0610 - accuracy: 0.9812 - val_loss: 0.0395 - val_accuracy: 0.9871\n",
      "Epoch 3/30\n",
      "60000/60000 [==============================] - 39s 653us/sample - loss: 0.0491 - accuracy: 0.9851 - val_loss: 0.0415 - val_accuracy: 0.9855\n",
      "Epoch 4/30\n",
      "60000/60000 [==============================] - 38s 640us/sample - loss: 0.0399 - accuracy: 0.9875 - val_loss: 0.0321 - val_accuracy: 0.9904\n",
      "Epoch 5/30\n",
      "60000/60000 [==============================] - 38s 640us/sample - loss: 0.0361 - accuracy: 0.9891 - val_loss: 0.0291 - val_accuracy: 0.9901\n",
      "Epoch 6/30\n",
      "60000/60000 [==============================] - 39s 643us/sample - loss: 0.0322 - accuracy: 0.9899 - val_loss: 0.0375 - val_accuracy: 0.9887\n",
      "Epoch 7/30\n",
      "60000/60000 [==============================] - 39s 643us/sample - loss: 0.0300 - accuracy: 0.9907 - val_loss: 0.0320 - val_accuracy: 0.9907\n",
      "Epoch 8/30\n",
      "60000/60000 [==============================] - 38s 636us/sample - loss: 0.0283 - accuracy: 0.9912 - val_loss: 0.0309 - val_accuracy: 0.9906\n",
      "Epoch 9/30\n",
      "60000/60000 [==============================] - 39s 647us/sample - loss: 0.0290 - accuracy: 0.9906 - val_loss: 0.0282 - val_accuracy: 0.9903\n",
      "Epoch 10/30\n",
      "60000/60000 [==============================] - 39s 655us/sample - loss: 0.0242 - accuracy: 0.9923 - val_loss: 0.0392 - val_accuracy: 0.9888\n",
      "Epoch 11/30\n",
      "60000/60000 [==============================] - 38s 639us/sample - loss: 0.0240 - accuracy: 0.9926 - val_loss: 0.0291 - val_accuracy: 0.9905\n",
      "Epoch 12/30\n",
      "60000/60000 [==============================] - 39s 650us/sample - loss: 0.0223 - accuracy: 0.9931 - val_loss: 0.0249 - val_accuracy: 0.9920\n",
      "Epoch 13/30\n",
      "60000/60000 [==============================] - 38s 637us/sample - loss: 0.0203 - accuracy: 0.9938 - val_loss: 0.0328 - val_accuracy: 0.9909\n",
      "Epoch 14/30\n",
      "60000/60000 [==============================] - 38s 637us/sample - loss: 0.0215 - accuracy: 0.9929 - val_loss: 0.0458 - val_accuracy: 0.9885\n",
      "Epoch 15/30\n",
      "60000/60000 [==============================] - 38s 636us/sample - loss: 0.0208 - accuracy: 0.9935 - val_loss: 0.0319 - val_accuracy: 0.9923\n",
      "Epoch 16/30\n",
      "60000/60000 [==============================] - 38s 631us/sample - loss: 0.0173 - accuracy: 0.9942 - val_loss: 0.0347 - val_accuracy: 0.9908\n",
      "Epoch 17/30\n",
      "60000/60000 [==============================] - 38s 632us/sample - loss: 0.0197 - accuracy: 0.9939 - val_loss: 0.0305 - val_accuracy: 0.9907\n",
      "Epoch 18/30\n",
      "60000/60000 [==============================] - 38s 631us/sample - loss: 0.0189 - accuracy: 0.9941 - val_loss: 0.0350 - val_accuracy: 0.9914\n",
      "Epoch 19/30\n",
      "60000/60000 [==============================] - 38s 630us/sample - loss: 0.0169 - accuracy: 0.9950 - val_loss: 0.0444 - val_accuracy: 0.9896\n",
      "Epoch 20/30\n",
      "60000/60000 [==============================] - 38s 630us/sample - loss: 0.0167 - accuracy: 0.9947 - val_loss: 0.0294 - val_accuracy: 0.9931\n",
      "Epoch 21/30\n",
      "60000/60000 [==============================] - 38s 629us/sample - loss: 0.0168 - accuracy: 0.9951 - val_loss: 0.0321 - val_accuracy: 0.9929\n",
      "Epoch 22/30\n",
      "60000/60000 [==============================] - 38s 634us/sample - loss: 0.0152 - accuracy: 0.9953 - val_loss: 0.0344 - val_accuracy: 0.9914\n",
      "Epoch 23/30\n",
      "60000/60000 [==============================] - 38s 632us/sample - loss: 0.0174 - accuracy: 0.9948 - val_loss: 0.0287 - val_accuracy: 0.9924\n",
      "Epoch 24/30\n",
      "60000/60000 [==============================] - 38s 632us/sample - loss: 0.0158 - accuracy: 0.9952 - val_loss: 0.0349 - val_accuracy: 0.9915\n",
      "Epoch 25/30\n",
      "60000/60000 [==============================] - 38s 631us/sample - loss: 0.0156 - accuracy: 0.9953 - val_loss: 0.0366 - val_accuracy: 0.9899\n",
      "Epoch 26/30\n",
      "60000/60000 [==============================] - 38s 631us/sample - loss: 0.0146 - accuracy: 0.9954 - val_loss: 0.0316 - val_accuracy: 0.9919\n",
      "Epoch 27/30\n",
      "60000/60000 [==============================] - 38s 631us/sample - loss: 0.0152 - accuracy: 0.9955 - val_loss: 0.0283 - val_accuracy: 0.9934\n",
      "Epoch 28/30\n",
      "60000/60000 [==============================] - 38s 632us/sample - loss: 0.0124 - accuracy: 0.9963 - val_loss: 0.0325 - val_accuracy: 0.9920\n",
      "Epoch 29/30\n",
      "60000/60000 [==============================] - 38s 630us/sample - loss: 0.0117 - accuracy: 0.9962 - val_loss: 0.0306 - val_accuracy: 0.9937\n",
      "Epoch 30/30\n",
      "60000/60000 [==============================] - 38s 630us/sample - loss: 0.0151 - accuracy: 0.9954 - val_loss: 0.0398 - val_accuracy: 0.9910\n",
      "Temps de calcul: 1148 s\n"
     ]
    }
   ],
   "source": [
    "\n",
    "heure_de_debut = time.time()\n",
    "historique = model.fit(x_train, y_train,\n",
    "                       batch_size=batch_size,\n",
    "                       epochs=epochs,\n",
    "                       verbose=1,\n",
    "                       validation_data=(x_val, y_val))\n",
    "\n",
    "temps_de_calcul = time.time() - heure_de_debut\n",
    "print(\"Temps de calcul: {:d} s\".format(trunc(temps_de_calcul)))\n"
   ]
  },
  {
   "cell_type": "code",
   "execution_count": 16,
   "metadata": {},
   "outputs": [
    {
     "data": {
      "text/plain": [
       "[0.03977969696628092, 0.991]"
      ]
     },
     "execution_count": 16,
     "metadata": {},
     "output_type": "execute_result"
    }
   ],
   "source": [
    "model.evaluate(x_val, y_val, verbose=0)"
   ]
  },
  {
   "cell_type": "code",
   "execution_count": 8,
   "metadata": {},
   "outputs": [
    {
     "data": {
      "image/png": "[encoded data removed]",
      "text/plain": [
       "<Figure size 432x288 with 1 Axes>"
      ]
     },
     "metadata": {
      "needs_background": "light"
     },
     "output_type": "display_data"
    },
    {
     "data": {
      "image/png": "[encoded data removed]",
      "text/plain": [
       "<Figure size 432x288 with 1 Axes>"
      ]
     },
     "metadata": {
      "needs_background": "light"
     },
     "output_type": "display_data"
    }
   ],
   "source": [
    "# Représentation des résultats\n",
    "accuracy_train = historique.history['accuracy']\n",
    "accuracy_test = historique.history['val_accuracy']\n",
    "loss_train = historique.history['loss']\n",
    "loss_test = historique.history['val_loss']\n",
    "# Précision\n",
    "plt.plot(accuracy_test, c='coral', label='test')\n",
    "plt.plot(accuracy_train, c='steelblue', label='val')\n",
    "plt.xlabel('Epoque')\n",
    "plt.title('Précision')\n",
    "plt.legend(bbox_to_anchor=(1.05, 1), loc='upper left', borderaxespad=0.)\n",
    "plt.show()\n",
    "# Fonction de coût\n",
    "plt.plot(loss_test, c='coral', label='test')\n",
    "plt.plot(loss_train, c='steelblue', label='val')\n",
    "plt.title('Fonction de coût')\n",
    "plt.legend(bbox_to_anchor=(1.05, 1), loc='upper left', borderaxespad=0.)\n",
    "plt.show()"
   ]
  },
  {
   "cell_type": "code",
   "execution_count": 9,
   "metadata": {},
   "outputs": [
    {
     "name": "stdout",
     "output_type": "stream",
     "text": [
      "WARNING:tensorflow:From /opt/anaconda3/envs/tensorflow/lib/python3.7/site-packages/tensorflow_core/python/ops/resource_variable_ops.py:1781: calling BaseResourceVariable.__init__ (from tensorflow.python.ops.resource_variable_ops) with constraint is deprecated and will be removed in a future version.\n",
      "Instructions for updating:\n",
      "If using Keras pass *_constraint arguments to layers.\n",
      "INFO:tensorflow:Assets written to: ./model_mnist/assets\n"
     ]
    }
   ],
   "source": [
    "model.save('./model_mnist')"
   ]
  },
  {
   "cell_type": "code",
   "execution_count": null,
   "metadata": {},
   "outputs": [],
   "source": []
  }
 ],
 "metadata": {
  "kernelspec": {
   "display_name": "tensorflow",
   "language": "python",
   "name": "tensorflow"
  },
  "language_info": {
   "codemirror_mode": {
    "name": "ipython",
    "version": 3
   },
   "file_extension": ".py",
   "mimetype": "text/x-python",
   "name": "python",
   "nbconvert_exporter": "python",
   "pygments_lexer": "ipython3",
   "version": "3.7.7"
  }
 },
 "nbformat": 4,
 "nbformat_minor": 4
}
